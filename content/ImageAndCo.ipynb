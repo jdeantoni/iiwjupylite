{
  "metadata": {
    "language_info": {
      "codemirror_mode": {
        "name": "python",
        "version": 3
      },
      "file_extension": ".py",
      "mimetype": "text/x-python",
      "name": "python",
      "nbconvert_exporter": "python",
      "pygments_lexer": "ipython3",
      "version": "3.8"
    },
    "kernelspec": {
      "name": "python",
      "display_name": "Python (Pyodide)",
      "language": "python"
    }
  },
  "nbformat_minor": 4,
  "nbformat": 4,
  "cells": [
    {
      "cell_type": "code",
      "source": "class Pixel:\n    def __init__(self, theR = 0, theG = 0, theB = 0):\n        self.r=theR\n        self.g=theG\n        self.b=theB\n    def __repr__(self):\n        return f'Pixel({self.r},{self.g},{self.b})'",
      "metadata": {
        "trusted": true
      },
      "execution_count": 1,
      "outputs": []
    },
    {
      "cell_type": "code",
      "source": "p1 = Pixel()\np1.r=255",
      "metadata": {
        "trusted": true
      },
      "execution_count": 2,
      "outputs": []
    },
    {
      "cell_type": "code",
      "source": "p1",
      "metadata": {
        "trusted": true
      },
      "execution_count": 3,
      "outputs": [
        {
          "execution_count": 3,
          "output_type": "execute_result",
          "data": {
            "text/plain": "Pixel(255,0,0)"
          },
          "metadata": {}
        }
      ]
    },
    {
      "cell_type": "code",
      "source": "class Image:\n    def __init__(self, l, w, ps):\n        self.length=l\n        self.width=w\n        self.pixels=ps\n    def __repr__(self):\n        return f'Image(\\n  {self.length}x{self.width}\\n  {self.pixels}\\n)'",
      "metadata": {
        "trusted": true
      },
      "execution_count": 4,
      "outputs": []
    },
    {
      "cell_type": "code",
      "source": "img = Image(2,2,[Pixel(255,255,255),Pixel(),Pixel(),Pixel(255,255,255)])",
      "metadata": {
        "trusted": true
      },
      "execution_count": 5,
      "outputs": []
    },
    {
      "cell_type": "code",
      "source": "img",
      "metadata": {
        "trusted": true
      },
      "execution_count": 6,
      "outputs": [
        {
          "execution_count": 6,
          "output_type": "execute_result",
          "data": {
            "text/plain": "Image(\n  2x2\n  [Pixel(255,255,255), Pixel(0,0,0), Pixel(0,0,0), Pixel(255,255,255)]\n)"
          },
          "metadata": {}
        }
      ]
    },
    {
      "cell_type": "code",
      "source": "f = open(\"pict/miniDamier.ppm\", \"r\")\nallLines= f.readlines()\nusefullLines = []\nfor line in allLines:\n    if line.startswith('#') or len(line)==0:\n        None\n    else:\n        usefullLines.append(line)\n        \nusefullLines = usefullLines[1:]\nres=[]\n\nfor line in usefullLines:\n    for w in line.split():\n        res.append(w)\n\n        \nprint(\"size=\",res[0],\"x\",res[1])\nfor i in range(3,len(res)-1,3):\n    print(\"Pixel(\",res[i],\",\",res[i+1],\",\",res[i+2],\")\")\nprint(\"------------------------------\")   \ni=0\nfor v in res[3:]:\n    if(i%3==0):\n        print(\"Pixel(\",v,\",\",end=\"\")\n    if(i%3==1):\n        print(v,\",\",end=\"\")\n    if(i%3==2):\n        print(v,\")\")\n    i = i + 1",
      "metadata": {
        "trusted": true
      },
      "execution_count": 7,
      "outputs": [
        {
          "name": "stdout",
          "text": "size= 2 x 2\nPixel( 0 , 0 , 0 )\nPixel( 255 , 255 , 255 )\nPixel( 255 , 255 , 255 )\nPixel( 0 , 0 , 0 )\n------------------------------\nPixel( 0 ,0 ,0 )\nPixel( 255 ,255 ,255 )\nPixel( 255 ,255 ,255 )\nPixel( 0 ,0 ,0 )\n",
          "output_type": "stream"
        }
      ]
    },
    {
      "cell_type": "code",
      "source": "import cv2\nimport helperIIW\nhelperIIW.showImage(\"./pict/Oeuvre_d_art.ppm\")\n",
      "metadata": {
        "trusted": true
      },
      "execution_count": 12,
      "outputs": [
        {
          "output_type": "display_data",
          "data": {
            "text/plain": "<PIL.PngImagePlugin.PngImageFile image mode=RGB size=304x182>",
            "image/png": "[encoded data removed]"
          },
          "metadata": {}
        }
      ]
    }
  ]
}