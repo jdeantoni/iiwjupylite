{
  "metadata": {
    "language_info": {
      "codemirror_mode": {
        "name": "python",
        "version": 3
      },
      "file_extension": ".py",
      "mimetype": "text/x-python",
      "name": "python",
      "nbconvert_exporter": "python",
      "pygments_lexer": "ipython3",
      "version": "3.8"
    },
    "kernelspec": {
      "name": "python",
      "display_name": "Python (Pyodide)",
      "language": "python"
    }
  },
  "nbformat_minor": 4,
  "nbformat": 4,
  "cells": [
    {
      "cell_type": "code",
      "source": "img = Image(2,2,[Pixel(255,255,255),Pixel(),Pixel(),Pixel(255,255,255)])",
      "metadata": {
        "trusted": true
      },
      "execution_count": 5,
      "outputs": []
    },
    {
      "cell_type": "code",
      "source": "img",
      "metadata": {
        "trusted": true
      },
      "execution_count": 6,
      "outputs": [
        {
          "execution_count": 6,
          "output_type": "execute_result",
          "data": {
            "text/plain": "Image(\n  2x2\n  [Pixel(255,255,255), Pixel(0,0,0), Pixel(0,0,0), Pixel(255,255,255)]\n)"
          },
          "metadata": {}
        }
      ]
    },
    {
      "cell_type": "code",
      "source": "import cv2\nimport helperIIW\nhelperIIW.showImage(\"./pict/miniDamier.ppm\")\n",
      "metadata": {
        "trusted": true
      },
      "execution_count": 8,
      "outputs": [
        {
          "output_type": "display_data",
          "data": {
            "text/plain": "<PIL.PngImagePlugin.PngImageFile image mode=RGB size=304x182>",
            "image/png": "[encoded data removed]"
          },
          "metadata": {}
        }
      ]
    },
    {
      "cell_type": "code",
      "source": "img = loadImage(\"pict/miniDamier.ppm\")\nimg",
      "metadata": {
        "trusted": true
      },
      "execution_count": 10,
      "outputs": []
    },
    {
      "cell_type": "code",
      "source": "for p in img.pixels:\n    if p.r == 255:\n        p.r = 0\nimg",
      "metadata": {
        "trusted": true
      },
      "execution_count": 11,
      "outputs": []
    },
    {
      "cell_type": "code",
      "source": "saveImage(img,'pict/modified/Oeuvre_d_a_rt.ppm')\nhelperIIW.showImage('pict/modified/Oeuvre_d_a_rt.ppm')",
      "metadata": {
        "trusted": true
      },
      "execution_count": null,
      "outputs": []
    }
  ]
}