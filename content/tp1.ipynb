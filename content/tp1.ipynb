{
  "metadata": {
    "language_info": {
      "codemirror_mode": {
        "name": "python",
        "version": 3
      },
      "file_extension": ".py",
      "mimetype": "text/x-python",
      "name": "python",
      "nbconvert_exporter": "python",
      "pygments_lexer": "ipython3",
      "version": "3.8"
    },
    "kernelspec": {
      "name": "python",
      "display_name": "Python (Pyodide)",
      "language": "python"
    }
  },
  "nbformat_minor": 4,
  "nbformat": 4,
  "cells": [
    {
      "cell_type": "code",
      "source": "import cv2\nimport helperIIW\nimg = helperIIW.PPMImage(2,2,[helperIIW.Pixel(255,255,255),helperIIW.Pixel(),helperIIW.Pixel(),helperIIW.Pixel(255,255,255)])",
      "metadata": {
        "trusted": true
      },
      "execution_count": 1,
      "outputs": []
    },
    {
      "cell_type": "code",
      "source": "img",
      "metadata": {
        "trusted": true
      },
      "execution_count": 2,
      "outputs": [
        {
          "execution_count": 2,
          "output_type": "execute_result",
          "data": {
            "text/plain": "Image(\n  2x2\n  [Pixel(255,255,255), Pixel(0,0,0), Pixel(0,0,0), Pixel(255,255,255)]\n)"
          },
          "metadata": {}
        }
      ]
    },
    {
      "cell_type": "code",
      "source": "helperIIW.showImage(\"./pict/miniDamier.ppm\")\n",
      "metadata": {
        "trusted": true
      },
      "execution_count": 3,
      "outputs": [
        {
          "output_type": "display_data",
          "data": {
            "text/plain": "<PIL.PngImagePlugin.PngImageFile image mode=RGB size=2x2>",
            "image/png": "[encoded data removed]"
          },
          "metadata": {}
        }
      ]
    },
    {
      "cell_type": "code",
      "source": "img = helperIIW.loadImage(\"pict/miniDamier.ppm\")\nimg",
      "metadata": {
        "trusted": true
      },
      "execution_count": 4,
      "outputs": [
        {
          "execution_count": 4,
          "output_type": "execute_result",
          "data": {
            "text/plain": "Image(\n  2x2\n  [Pixel(0,0,0), Pixel(255,255,255), Pixel(255,255,255), Pixel(0,0,0)]\n)"
          },
          "metadata": {}
        }
      ]
    },
    {
      "cell_type": "code",
      "source": "for p in img.pixels:\n    if p.r == 255:\n        p.r = 0\nimg",
      "metadata": {
        "trusted": true
      },
      "execution_count": 5,
      "outputs": [
        {
          "execution_count": 5,
          "output_type": "execute_result",
          "data": {
            "text/plain": "Image(\n  2x2\n  [Pixel(0,0,0), Pixel(0,255,255), Pixel(0,255,255), Pixel(0,0,0)]\n)"
          },
          "metadata": {}
        }
      ]
    },
    {
      "cell_type": "code",
      "source": "helperIIW.saveImage(img,'pict/modified/miniDamier.ppm')\nhelperIIW.showImage('pict/modified/miniDamier.ppm')",
      "metadata": {
        "trusted": true
      },
      "execution_count": 6,
      "outputs": [
        {
          "ename": "<class 'FileNotFoundError'>",
          "evalue": "[Errno 44] No such file or directory: 'pict/modified/Oeuvre_d_a_rt.ppm'",
          "traceback": [
            "\u001b[0;31m---------------------------------------------------------------------------\u001b[0m",
            "\u001b[0;31mFileNotFoundError\u001b[0m                         Traceback (most recent call last)",
            "Input \u001b[0;32mIn [6]\u001b[0m, in \u001b[0;36m<cell line: 1>\u001b[0;34m()\u001b[0m\n\u001b[0;32m----> 1\u001b[0m \u001b[43mhelperIIW\u001b[49m\u001b[38;5;241;43m.\u001b[39;49m\u001b[43msaveImage\u001b[49m\u001b[43m(\u001b[49m\u001b[43mimg\u001b[49m\u001b[43m,\u001b[49m\u001b[38;5;124;43m'\u001b[39;49m\u001b[38;5;124;43mpict/modified/Oeuvre_d_a_rt.ppm\u001b[39;49m\u001b[38;5;124;43m'\u001b[39;49m\u001b[43m)\u001b[49m\n\u001b[1;32m      2\u001b[0m helperIIW\u001b[38;5;241m.\u001b[39mshowImage(\u001b[38;5;124m'\u001b[39m\u001b[38;5;124mpict/modified/Oeuvre_d_a_rt.ppm\u001b[39m\u001b[38;5;124m'\u001b[39m)\n",
            "File \u001b[0;32m/drive/helperIIW.py:63\u001b[0m, in \u001b[0;36msaveImage\u001b[0;34m(img, path)\u001b[0m\n\u001b[1;32m     62\u001b[0m \u001b[38;5;28;01mdef\u001b[39;00m \u001b[38;5;21msaveImage\u001b[39m(img,path):\n\u001b[0;32m---> 63\u001b[0m     f \u001b[38;5;241m=\u001b[39m \u001b[38;5;28;43mopen\u001b[39;49m\u001b[43m(\u001b[49m\u001b[43mpath\u001b[49m\u001b[43m,\u001b[49m\u001b[43m \u001b[49m\u001b[38;5;124;43m\"\u001b[39;49m\u001b[38;5;124;43mw\u001b[39;49m\u001b[38;5;124;43m\"\u001b[39;49m\u001b[43m)\u001b[49m\n\u001b[1;32m     64\u001b[0m     f\u001b[38;5;241m.\u001b[39mwrite(\u001b[38;5;124m\"\u001b[39m\u001b[38;5;124mP3\u001b[39m\u001b[38;5;130;01m\\n\u001b[39;00m\u001b[38;5;124m\"\u001b[39m)\n\u001b[1;32m     65\u001b[0m     f\u001b[38;5;241m.\u001b[39mwrite(\u001b[38;5;124m\"\u001b[39m\u001b[38;5;124m#created by my wonderfull app !\u001b[39m\u001b[38;5;130;01m\\n\u001b[39;00m\u001b[38;5;124m\"\u001b[39m)\n",
            "\u001b[0;31mFileNotFoundError\u001b[0m: [Errno 44] No such file or directory: 'pict/modified/Oeuvre_d_a_rt.ppm'"
          ],
          "output_type": "error"
        }
      ]
    }
  ]
}