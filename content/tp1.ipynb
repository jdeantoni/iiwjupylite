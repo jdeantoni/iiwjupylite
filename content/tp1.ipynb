{
  "metadata": {
    "language_info": {
      "codemirror_mode": {
        "name": "python",
        "version": 3
      },
      "file_extension": ".py",
      "mimetype": "text/x-python",
      "name": "python",
      "nbconvert_exporter": "python",
      "pygments_lexer": "ipython3",
      "version": "3.8"
    },
    "kernelspec": {
      "name": "python",
      "display_name": "Python (Pyodide)",
      "language": "python"
    }
  },
  "nbformat_minor": 4,
  "nbformat": 4,
  "cells": [
    {
      "cell_type": "markdown",
      "source": "# TP numéro 1: prise en main de l'environnement",
      "metadata": {}
    },
    {
      "cell_type": "markdown",
      "source": "# premier pas avec notebook\n\nVous êtes actuellement sur une page web qui intègre un environnementde développement appelé *jupyter notebook*. Il s'agit d'un environnement composés de cellules (comme celle qui contient ce texte par exemple). Dans notre environnement les cellules seront soit du texte (formaté ou pas), soit du code Python.\n\nVous pouvez exécuter une cellule contenant du code Python et le résultat de l'exécution s'affiche sur la droite de la cellule. Il n'est pas nécessaire qu'un programme affiche quoi que ce soit.\n\nExemple simple: cliquez sur la cellule ci dessous. Vous pouvez l'éditer. Vous pouvez également l'exécuter en cliquant sur l'icône ![image.png](attachment:180832dc-c911-4ca6-a3b7-73fd14707479.png) de la barre d'outil ci dessus. Pour plus de simplicité vous pouvez aussi taper sur ctrl+enter pour exécuter la cellule dans laquelle vous êtes\n\nExécutez la cellule ci dessous.",
      "metadata": {
        "tags": []
      },
      "attachments": {
        "180832dc-c911-4ca6-a3b7-73fd14707479.png": {
          "image/png": "[encoded data removed]"
        }
      }
    },
    {
      "cell_type": "code",
      "source": "i: int = int(0)",
      "metadata": {
        "trusted": true
      },
      "execution_count": 1,
      "outputs": []
    },
    {
      "cell_type": "markdown",
      "source": "&rarr; Comme vous pouvez le constater, il semble qu'il ne se passe rien. C'est simplement parceque le programme n'affiche rien. Vous pouvez affichier le contenu d'un variable ou du texte avec la *fonction print*. \n\nUne fonction a un nom (ici *print*) et peut être paramétrée par un ensemble de valeurs passées entre parenthèse lors de son utilisation (on appelle ces valeurs des paramètres). Une fonction a alors un comportement arbitraire, fonction des paramètres. \n\nLa fonction *print* est très pratique et définie par défaut dans python. Elle permet d'afficher la valeur des paramètres à l'utilisateur. La cellule suivante vous montre quelques exemple d'utilisation de cette fonction. Allez sur la cellule suivante et exécutez là. ",
      "metadata": {}
    },
    {
      "cell_type": "code",
      "source": "i: int= int(0)\nprint('la valeur de i est:')\nprint(i)\n\nprint('la valeur de i est:',i)\n\ngreeting: str = str('Hello')\nprint(greeting, ' world')",
      "metadata": {
        "trusted": true
      },
      "execution_count": 2,
      "outputs": [
        {
          "name": "stdout",
          "text": "la valeur de i est:\n0\nla valeur de i est: 0\nHello  world\n",
          "output_type": "stream"
        }
      ]
    },
    {
      "cell_type": "markdown",
      "source": "&rarr; Cette fois vous pouvez voir l'affichage résultant de l'exécution de la cellule sur la droite de l'écran. Comme vous pouvez le constater on peut passer à la fonction *print* un ou plusieurs paramètres séparés par des virgules. Les paramètres peuvent être des variables ou bien des chaines de caractères. Il existe de nombreuses manières de faire des utilisations avancées de la fonction *print* mais ce ne sera pas abordé dans ce TP. Les curieuses et les curieux pourront, si ils le désirent, aller voir, en dehors des heures de TP, cette partie de cours dédiée à l'utilisation de *print*: https://python.sdv.univ-paris-diderot.fr/03_affichage/   ",
      "metadata": {}
    },
    {
      "cell_type": "markdown",
      "source": "**Vous devez faire attention à l'ordre d'exécution des cellules**. Vous n'êtes pas obligé de les exécuter dans l'ordre où elles apparaissent. Cependant c'est une bonne pratique. Les variables déclarées dans une cellule sont accessibles dans les cellules qui sont exécutées par la suite. (Si vous avez un doute, le nombre entre crochets à gauche de la cellule vous donne l'ordre d'exécution des cellules.) ",
      "metadata": {}
    },
    {
      "cell_type": "markdown",
      "source": "Vous pouvez réinitialiser le *notebook* en cliquant sur le bouton ![image.png](attachment:b7f1274e-9de0-440b-8786-c0e2e2d272e8.png). Cela pour effet d'effacer toutes les variables de la mémoire et de repartir dans un état où aucune cellule n'a été exécutée. (Malheureusement les numéros entre crochets ne sont pas remis à jour).\n\nPar exemple, dans un premier temps, exécutez consécutivement les deux cellules suivantes:",
      "metadata": {},
      "attachments": {
        "b7f1274e-9de0-440b-8786-c0e2e2d272e8.png": {
          "image/png": "[encoded data removed]"
        }
      }
    },
    {
      "cell_type": "code",
      "source": "var1 : int = int(0)",
      "metadata": {
        "trusted": true
      },
      "execution_count": 3,
      "outputs": []
    },
    {
      "cell_type": "code",
      "source": "print('var1 vaut: ',var1)",
      "metadata": {
        "trusted": true
      },
      "execution_count": 4,
      "outputs": [
        {
          "name": "stdout",
          "text": "var1 vaut:  0\n",
          "output_type": "stream"
        }
      ]
    },
    {
      "cell_type": "markdown",
      "source": "&rarr; Vous ne devriez pas avoir de messages d'erreur car la cellule qui fait l'affichage de *var1* a été exécutée après celle qui fait la déclaration de *var1*. \n\nSi vous réinitialisez le notebook et que vous exécutez uniquement la cellule précédente, alors vous allez avoir une erreur qui stipule que la variable *var1* n'est pas définie.",
      "metadata": {}
    },
    {
      "cell_type": "markdown",
      "source": "## Premiers programmes",
      "metadata": {}
    },
    {
      "cell_type": "markdown",
      "source": "## Très simple",
      "metadata": {}
    },
    {
      "cell_type": "markdown",
      "source": "Écrire un programme qui déclare 2 variables: *nom* et *prénom* de type chaine de caractère et initialisée avec les valeurs de votre choix, par exemple nom=John, prénom=Doe.\n\nDéclarer une autre variable nommée *age* de type entier qui contient un age initialisé avec la valeur de votre choix, par exemple age=42.\n\nÉcrire la ou les lignes permettant d'afficher le texte suivant, fonction des valeurs de vos variables: *John Doe is 42 years old.*",
      "metadata": {}
    },
    {
      "cell_type": "code",
      "source": "#correction:\nnom: str = str('Doe')\nprénom: str = str('John')\nage: int = int(42)\n\nprint(prénom,nom,'is',age,'years old') #note the automatic add of space between concatenated variables",
      "metadata": {
        "trusted": true
      },
      "execution_count": 8,
      "outputs": [
        {
          "name": "stdout",
          "text": "John Doe is 42 years old\n",
          "output_type": "stream"
        }
      ]
    },
    {
      "cell_type": "markdown",
      "source": "# Simple",
      "metadata": {}
    },
    {
      "cell_type": "markdown",
      "source": "Définissez la variable structurée *Point2D* vue en cours et déclarez 4 variables de Point2D ayant les valeurs suivantes: (1;1) (2;3) (3;9) (4;27).\n\nVous allez utiliser une *fonction* que j'ai défini pour vous permettre d'afficher les points dans un repère orthonormé. Cette fonction est définie dans le fichier iiwHelper.py que vous pouvez voir dans le navigateur de fichiers à gauche de l'écran. Vous n'êtes pas obligé d'aller voir comment cette fonction est définie. Pour l'utiliser vous devez juste savoir deux choses:\n  1. il faut importer le contenu du fichier iiwHelper.py pour l'utiliser. Pour ce faire il est nécessaire d'écrire au debut de la cellule *from iiwHelper import *'\n  2. elle s'appelle *display*, elle prend une liste de points en paramètre et les affiche.\n",
      "metadata": {}
    },
    {
      "cell_type": "markdown",
      "source": "<div class=\"alert alert-block alert-info\">\nnotes:     \n</div>",
      "metadata": {}
    },
    {
      "cell_type": "code",
      "source": "import matplotlib.pyplot as plotLib\n\n\n\ndef display(lstPoint: list):\n    xSet: list \n    ySet: list\n    for p in lstPoint:\n        xSet = xSet + p.x\n        ySet = ySet + p.y    \n    plotLib.plot(xSet, ySet, marker='.',  color = \"red\")\n    plotLib.show()",
      "metadata": {
        "trusted": true
      },
      "execution_count": 11,
      "outputs": []
    },
    {
      "cell_type": "code",
      "source": "from dataclasses import dataclass          #required to declare a type\n\n@dataclass\nclass Point2D:  \n    x : int\n    y : int",
      "metadata": {
        "trusted": true
      },
      "execution_count": 12,
      "outputs": []
    },
    {
      "cell_type": "code",
      "source": "p1: Point2D = Point2D(1,1)\np2: Point2D = Point2D(2,3)\np3: Point2D = Point2D(3,9)\np4: Point2D = Point2D(4,27)\ndisplay",
      "metadata": {},
      "execution_count": null,
      "outputs": []
    }
  ]
}