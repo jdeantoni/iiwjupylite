{
  "metadata": {
    "language_info": {
      "codemirror_mode": {
        "name": "python",
        "version": 3
      },
      "file_extension": ".py",
      "mimetype": "text/x-python",
      "name": "python",
      "nbconvert_exporter": "python",
      "pygments_lexer": "ipython3",
      "version": "3.8"
    },
    "kernelspec": {
      "name": "python",
      "display_name": "Python (Pyodide)",
      "language": "python"
    }
  },
  "nbformat_minor": 4,
  "nbformat": 4,
  "cells": [
    {
      "cell_type": "code",
      "source": "from dataclasses import dataclass\n@dataclass\nclass Pixel:\n    r : int\n    g : int\n    b : int\n\n\np1= Pixel(255,0,0)\n\nprint(p1)\n\np1.r=128\n\nprint(p1)\n\n@dataclass\nclass Image:\n    format:str\n    length:int\n    width:int\n    pixels:list[Pixel]\n    \nimg = Image(2,2,[p1,p1,Pixel(0,1,2)])\nprint(img)\n\nimg.pixels[1].r = 42\nprint(img)",
      "metadata": {
        "trusted": true
      },
      "execution_count": 3,
      "outputs": [
        {
          "name": "stdout",
          "text": "Pixel(r=255, g=0, b=0)\nPixel(r=128, g=0, b=0)\nImage(length=2, width=2, pixels=[Pixel(r=128, g=0, b=0), Pixel(r=128, g=0, b=0), Pixel(r=0, g=1, b=2)])\nImage(length=2, width=2, pixels=[Pixel(r=42, g=0, b=0), Pixel(r=42, g=0, b=0), Pixel(r=0, g=1, b=2)])\n",
          "output_type": "stream"
        }
      ]
    }
  ]
}